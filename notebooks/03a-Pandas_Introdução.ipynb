{
 "cells": [
  {
   "cell_type": "markdown",
   "metadata": {},
   "source": [
    "# Introdução a Pandas\n",
    "\n",
    "Pandas é uma biblioteca para a manipulação de DataFrames. DataFrames são dados estruturados em formato de planilha. Quem está familiarizado com o Excel pode perceber que o Pandas faz coisas parecidas, como criação de novas colunas usando fórmulas, ordenação de valores, cálculo de estatísticas, plotagem de gráficos etc. A vantagem do Pandas é poder fazer isto tudo de uma forma programável, que se adequa até mesmo a grandes quantidades de dados.\n",
    "\n",
    "Para usar o Pandas, o primeiro passo é importar a biblioteca. Aqui usamos o \"apelido\" *pd* para nos referenciarmos à biblioteca nas próximas células. Execute todas as células de código do tutorial para ver o resultado."
   ]
  },
  {
   "cell_type": "code",
   "execution_count": null,
   "metadata": {},
   "outputs": [],
   "source": [
    "#importing libraries\n",
    "import pandas as pd\n",
    "\n",
    "%matplotlib inline"
   ]
  },
  {
   "cell_type": "markdown",
   "metadata": {},
   "source": [
    "## Lendo dados de um arquivo\n",
    "\n",
    "Muitos dados são gravados em arquivos CSV (Comma Separated Values, ou Valores Separados por Vírgula). É muito fácil importar dados em CSV usando o Pandas, como mostra a célula abaixo. Estes dados também poderiam vir de uma planilha do Excel ou de um banco de dados, dependendo do caso.\n",
    "\n",
    "Nos comandos abaixo, o método *read_csv* lê os dados do arquivo *aluguel.csv* que se encontra na pasta *data*. Os dados são atribuídos para o DataFrame que chamamos de df (mas poderíamos usar qualquer outro nome). Para exibir o conteúdo do DataFrame, basta escrever o nome na última linha da célula.\n",
    "\n",
    "O DataFrame carregado contém dados de apartamento para alugar na cidade de Curitiba."
   ]
  },
  {
   "cell_type": "code",
   "execution_count": null,
   "metadata": {},
   "outputs": [],
   "source": [
    "# lê o arquivo CSV\n",
    "df = pd.read_csv('../data/aluguel.csv')\n",
    "\n",
    "# mostra o conteúdo do DataFrame\n",
    "df.head()"
   ]
  },
  {
   "cell_type": "markdown",
   "metadata": {},
   "source": [
    "## Manipulando o DataFrame\n",
    "\n",
    "Podemos manipular o DataFrame de diversas formas. É possível criar novos DataFrames com subconjuntos de colunas do DataFrame original. Abaixo um DataFrame chamado df_small é criado com o conteúdo das colunas aluguel e condominio."
   ]
  },
  {
   "cell_type": "code",
   "execution_count": null,
   "metadata": {},
   "outputs": [],
   "source": [
    "df_small = df[['aluguel', 'condominio']]\n",
    "\n",
    "df_small"
   ]
  },
  {
   "cell_type": "markdown",
   "metadata": {},
   "source": [
    "Também é possível selecionar subconjuntos das linhas do DataFrame. Abaixo selecionamos apenas as linhas representando apartamentos de área maior que $50m^2$."
   ]
  },
  {
   "cell_type": "code",
   "execution_count": null,
   "metadata": {},
   "outputs": [],
   "source": [
    "df[df.area > 50]"
   ]
  },
  {
   "cell_type": "markdown",
   "metadata": {},
   "source": [
    "Podemos também transpor (rotacionar) um DataFrame: "
   ]
  },
  {
   "cell_type": "code",
   "execution_count": null,
   "metadata": {},
   "outputs": [],
   "source": [
    "df.T"
   ]
  },
  {
   "cell_type": "markdown",
   "metadata": {},
   "source": [
    "Perceba que o comando acima não alterou o DataFrame original, como pode ser visto abaixo. Ele apenas retornou um novo DataFrame. Para alterar um DataFrame, em geral, você precisa atribuir o resultado do comando à variável original. Por exemplo, usando df = df.T\n"
   ]
  },
  {
   "cell_type": "code",
   "execution_count": null,
   "metadata": {},
   "outputs": [],
   "source": [
    "df"
   ]
  },
  {
   "cell_type": "markdown",
   "metadata": {},
   "source": [
    "É possível criar novas colunas a partir de outras colunas do DataFrame. Abaixo criamos uma coluna chamada *total* contendo o valor do aluguel somado ao condomínio."
   ]
  },
  {
   "cell_type": "code",
   "execution_count": null,
   "metadata": {},
   "outputs": [],
   "source": [
    "df['total'] = df['aluguel'] + df['condominio']\n",
    "\n",
    "df"
   ]
  },
  {
   "cell_type": "markdown",
   "metadata": {},
   "source": [
    "### Exercício\n",
    "\n",
    "Suponha que o seu orçamento para alugar um apartamento é de R$ 900. Crie uma nova coluna com o nome \"diferença\" que contenha o valor que irá sobrar/faltar do seu orçamento de acordo com o valor total do apartamento."
   ]
  },
  {
   "cell_type": "code",
   "execution_count": null,
   "metadata": {},
   "outputs": [],
   "source": []
  },
  {
   "cell_type": "markdown",
   "metadata": {},
   "source": [
    "## Analisando dados do DataFrame\n",
    "\n",
    "Os DataFrames possuem um método chamado *describe* que exibe estatísticas sobre as colunas do DataFrame. Por exemplo, como pode ser visto abaixo, o valor máximo para o condomínio é 520, enquanto a média é 335.85."
   ]
  },
  {
   "cell_type": "code",
   "execution_count": null,
   "metadata": {},
   "outputs": [],
   "source": [
    "df.describe()"
   ]
  },
  {
   "cell_type": "markdown",
   "metadata": {},
   "source": [
    "DataFrames também suportam a plotagem de gráficos. Por exemplo, abaixo temos Box Plots representando a distribuição dos valores de aluguel e condomínio. Mais detalhes sobre plotagem de gráficos serão fornecidos em um outro momento."
   ]
  },
  {
   "cell_type": "code",
   "execution_count": null,
   "metadata": {},
   "outputs": [],
   "source": [
    "df_small.plot.box()"
   ]
  },
  {
   "cell_type": "markdown",
   "metadata": {},
   "source": [
    "É possível calcular a média de uma coluna:"
   ]
  },
  {
   "cell_type": "code",
   "execution_count": null,
   "metadata": {},
   "outputs": [],
   "source": [
    "df['aluguel'].mean()"
   ]
  },
  {
   "cell_type": "markdown",
   "metadata": {},
   "source": [
    "E várias outras estatísticas:"
   ]
  },
  {
   "cell_type": "code",
   "execution_count": null,
   "metadata": {},
   "outputs": [],
   "source": [
    "print(df['aluguel'].mean(), df['aluguel'].min(), df['aluguel'].max())"
   ]
  },
  {
   "cell_type": "markdown",
   "metadata": {},
   "source": [
    "Uma funcionalidade muito útil é o agrupamento de valores. No exemplo abaixo os valores são agrupados de acordo com o número de quartos. A média é calculada para cada valor distinto de número de quartos. Neste caso, apartamentos de 1 quarto têm valor médio de aluguel 701 enquanto os de 2 quartos têm valor médio 1095."
   ]
  },
  {
   "cell_type": "code",
   "execution_count": null,
   "metadata": {},
   "outputs": [],
   "source": [
    "df_grouped = df.groupby(['quartos']).mean()\n",
    "\n",
    "df_grouped"
   ]
  },
  {
   "cell_type": "markdown",
   "metadata": {},
   "source": [
    "### Exercício\n",
    "\n",
    "Faça um agrupamento utilizando o número de quartos e também o número de vagas para calcular a média do aluguel. Ou seja, para cada quantidade de quartos, vamos calcular a média do aluguel para cada quantidade de vagas. Responda: Qual é o custo médio de uma vaga neste dataset?"
   ]
  },
  {
   "cell_type": "code",
   "execution_count": null,
   "metadata": {},
   "outputs": [],
   "source": [
    "# Resposta:\n",
    "\n"
   ]
  },
  {
   "cell_type": "markdown",
   "metadata": {},
   "source": [
    "Podemos transpor (rotacionar) um DataFrame:"
   ]
  },
  {
   "cell_type": "code",
   "execution_count": null,
   "metadata": {},
   "outputs": [],
   "source": [
    "df_grouped.T"
   ]
  },
  {
   "cell_type": "markdown",
   "metadata": {},
   "source": [
    "Para ordenar um DataFrame baseado em valores de uma coluna, use:"
   ]
  },
  {
   "cell_type": "code",
   "execution_count": null,
   "metadata": {},
   "outputs": [],
   "source": [
    "df.sort_values('total')"
   ]
  },
  {
   "cell_type": "code",
   "execution_count": null,
   "metadata": {},
   "outputs": [],
   "source": []
  },
  {
   "cell_type": "code",
   "execution_count": null,
   "metadata": {},
   "outputs": [],
   "source": []
  }
 ],
 "metadata": {
  "hide_input": false,
  "kernelspec": {
   "display_name": "Python 3",
   "language": "python",
   "name": "python3"
  },
  "language_info": {
   "codemirror_mode": {
    "name": "ipython",
    "version": 3
   },
   "file_extension": ".py",
   "mimetype": "text/x-python",
   "name": "python",
   "nbconvert_exporter": "python",
   "pygments_lexer": "ipython3",
   "version": "3.7.3"
  }
 },
 "nbformat": 4,
 "nbformat_minor": 2
}
