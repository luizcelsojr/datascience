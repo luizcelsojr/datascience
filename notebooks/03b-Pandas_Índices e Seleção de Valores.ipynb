{
 "cells": [
  {
   "cell_type": "markdown",
   "metadata": {},
   "source": [
    "# Pandas - Índices e seleção de valores\n",
    "\n",
    "Índices são usados para acessar valores específicos dentro de um DataFrame. Por exemplo, usando índices podemos selecionar valores de determinadas linhas ou colunas de um DataFrame."
   ]
  },
  {
   "cell_type": "code",
   "execution_count": null,
   "metadata": {},
   "outputs": [],
   "source": [
    "#importing libraries\n",
    "import pandas as pd\n",
    "\n",
    "%matplotlib inline"
   ]
  },
  {
   "cell_type": "markdown",
   "metadata": {},
   "source": [
    "## Lendo dados de um arquivo\n",
    "\n",
    "O DataFrame carregado contém dados de apartamento para alugar na cidade de Curitiba."
   ]
  },
  {
   "cell_type": "code",
   "execution_count": null,
   "metadata": {},
   "outputs": [],
   "source": [
    "# lê o arquivo CSV\n",
    "df = pd.read_csv('../data/aluguel.csv')\n",
    "\n",
    "# mostra o conteúdo do DataFrame\n",
    "df"
   ]
  },
  {
   "cell_type": "markdown",
   "metadata": {},
   "source": [
    "## Entendendo Índices\n",
    "\n",
    "No caso do DataFrame carregado acima, o Pandas não tinha informações sobre qual coluna usar como um índice. Nestes casos o Pandas vai sempre criar um índice númerico sequencial para as linhas (primeira coluna à esquerda do DataFrame acima). Podemos indicar uma nova coluna para ser o ídice do DataFrame. Isto é feito com o método *set_index*:"
   ]
  },
  {
   "cell_type": "code",
   "execution_count": null,
   "metadata": {},
   "outputs": [],
   "source": [
    "df = df.set_index('codigo')\n",
    "\n",
    "df"
   ]
  },
  {
   "cell_type": "markdown",
   "metadata": {},
   "source": [
    "Para ordenar o DataFrame com base no índice, usamos *sort_index*:"
   ]
  },
  {
   "cell_type": "code",
   "execution_count": null,
   "metadata": {},
   "outputs": [],
   "source": [
    "df = df.sort_index()\n",
    "\n",
    "df"
   ]
  },
  {
   "cell_type": "markdown",
   "metadata": {},
   "source": [
    "Abaixo imprimimos na tela o tipo do índice e seus valores. Veja que o índice do DataFrame é da classe (tipo) pandas.core.indexes."
   ]
  },
  {
   "cell_type": "code",
   "execution_count": null,
   "metadata": {},
   "outputs": [],
   "source": [
    "indice = df.index\n",
    "\n",
    "print(type(indice))\n",
    "indice"
   ]
  },
  {
   "cell_type": "markdown",
   "metadata": {},
   "source": [
    "Colunas também são índices! Veja abaixo como obter a lista de colunas e preste atenção no tipo (classe)."
   ]
  },
  {
   "cell_type": "code",
   "execution_count": null,
   "metadata": {},
   "outputs": [],
   "source": [
    "colunas = df.columns\n",
    "\n",
    "print(type(colunas))\n",
    "colunas"
   ]
  },
  {
   "cell_type": "markdown",
   "metadata": {},
   "source": [
    "Como tanto as linhas quanto as colunas são índices, podemos usar os dois para acessar valores no DataFrame. Usando o método *loc* podemos especificar valores de índice para obter dados do DataFrame. Abaixo obtermos o valor da linha de índice 82 e coluna *area*."
   ]
  },
  {
   "cell_type": "code",
   "execution_count": null,
   "metadata": {},
   "outputs": [],
   "source": [
    "df.loc[82,'area']"
   ]
  },
  {
   "cell_type": "markdown",
   "metadata": {},
   "source": [
    "Podemos também especificar faixas de valores como é mostrado abaixo."
   ]
  },
  {
   "cell_type": "code",
   "execution_count": null,
   "metadata": {},
   "outputs": [],
   "source": [
    "df.loc[80:200,'area']"
   ]
  },
  {
   "cell_type": "markdown",
   "metadata": {},
   "source": [
    "Para desconsiderar os índices e obter valores pelas suas posições no DataFrame, use o método *iloc*. No comando abaixo obtemos o valor na quarta linha e quarta coluna (lembre-se que no Python a contagem começa pelo 0)."
   ]
  },
  {
   "cell_type": "code",
   "execution_count": null,
   "metadata": {},
   "outputs": [],
   "source": [
    "df.iloc[3,3]"
   ]
  },
  {
   "cell_type": "markdown",
   "metadata": {},
   "source": [
    "Outra forma de selecionar valores é especificar as posições de interesse usando um vetor contendo True para as posição desejadas e False para as posições indesejadas. Por exemplo, abaixo definimos um vetor que seleciona as 3 primeiras linhas e ignora todas as outras."
   ]
  },
  {
   "cell_type": "code",
   "execution_count": null,
   "metadata": {},
   "outputs": [],
   "source": [
    "\n",
    "selecionar = [True, True, True, False, False, False, False, False, False, False, False, False, False, False, False, False, False, False, False, False]\n",
    "\n",
    "df[selecionar]"
   ]
  },
  {
   "cell_type": "markdown",
   "metadata": {},
   "source": [
    "Obviamente, especificar vetores manualmente é tedioso. O ideal é gerar estes vetores a partir de comparações matemáticas, como $>$, $>=$, $==$, $!=$. Abaixo geramos um vetor que contém True para as posição de linhas com aluguel menor que 800. "
   ]
  },
  {
   "cell_type": "code",
   "execution_count": null,
   "metadata": {},
   "outputs": [],
   "source": [
    "selecionar = df['aluguel'] < 800\n",
    "\n",
    "selecionar"
   ]
  },
  {
   "cell_type": "markdown",
   "metadata": {},
   "source": [
    "O vetor criado pode então ser usado para selecionar linhas:"
   ]
  },
  {
   "cell_type": "code",
   "execution_count": null,
   "metadata": {},
   "outputs": [],
   "source": [
    "df[selecionar]"
   ]
  },
  {
   "cell_type": "markdown",
   "metadata": {},
   "source": [
    "Em vez de criar explicitamente o vetor com os valores da seleção, podemos simplesmente escrever a expressão na seleção do DataFrame:"
   ]
  },
  {
   "cell_type": "code",
   "execution_count": null,
   "metadata": {},
   "outputs": [],
   "source": [
    "df[df['aluguel'] < 800]"
   ]
  },
  {
   "cell_type": "markdown",
   "metadata": {},
   "source": [
    "Para reiniciar o índice, uso o comando *reset_index*. Este comando copia o índice anterior para uma coluna e cria um novo índice sequencial."
   ]
  },
  {
   "cell_type": "code",
   "execution_count": null,
   "metadata": {},
   "outputs": [],
   "source": [
    "df = df.reset_index()\n",
    "\n",
    "df"
   ]
  },
  {
   "cell_type": "markdown",
   "metadata": {},
   "source": [
    "## Índices hierárquicos (MultiIndex)"
   ]
  },
  {
   "cell_type": "markdown",
   "metadata": {},
   "source": [
    "Índices podem ter múltiplos níveis. Índices de múltiplos níveis são chamados MultiIndex. Embora eles não sejam usados com tanta frequência, é importante conhecê-los porque eles podem ser gerados como resultado de operações de processamento de dados como *groupby*. Abaixo geramos um índice de dois níveis usando o mesmo método usado para índices simples:"
   ]
  },
  {
   "cell_type": "code",
   "execution_count": null,
   "metadata": {},
   "outputs": [],
   "source": [
    "df_multi_index = df.set_index(['quartos', 'vaga'])\n",
    "\n",
    "df_multi_index"
   ]
  },
  {
   "cell_type": "markdown",
   "metadata": {},
   "source": [
    "O novo índice pode ser usado para ordenar o DataFrame:"
   ]
  },
  {
   "cell_type": "code",
   "execution_count": null,
   "metadata": {},
   "outputs": [],
   "source": [
    "df_multi_index.sort_index()"
   ]
  },
  {
   "cell_type": "markdown",
   "metadata": {},
   "source": [
    "O método *loc*, para seleção de dados, também pode ser usado em um índice multinível. Os valores de cada nível devem ser especificados numa tupla (entre parêntesis). Abaixo selecionamos todos os valores de aluguel de apartamentos com 2 quartos e 0 vagas:"
   ]
  },
  {
   "cell_type": "code",
   "execution_count": null,
   "metadata": {},
   "outputs": [],
   "source": [
    "df_multi_index.loc[(2,0), 'aluguel']"
   ]
  },
  {
   "cell_type": "markdown",
   "metadata": {},
   "source": [
    "Para recuperar os valores originais de um nível do índice, podemos usar o método *get_level_values*."
   ]
  },
  {
   "cell_type": "code",
   "execution_count": null,
   "metadata": {},
   "outputs": [],
   "source": [
    "df_multi_index.index.get_level_values('quartos')"
   ]
  }
 ],
 "metadata": {
  "hide_input": false,
  "kernelspec": {
   "display_name": "Python 3",
   "language": "python",
   "name": "python3"
  },
  "language_info": {
   "codemirror_mode": {
    "name": "ipython",
    "version": 3
   },
   "file_extension": ".py",
   "mimetype": "text/x-python",
   "name": "python",
   "nbconvert_exporter": "python",
   "pygments_lexer": "ipython3",
   "version": "3.7.3"
  }
 },
 "nbformat": 4,
 "nbformat_minor": 2
}
