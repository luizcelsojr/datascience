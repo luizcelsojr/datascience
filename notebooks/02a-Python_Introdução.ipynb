{
 "cells": [
  {
   "cell_type": "markdown",
   "metadata": {},
   "source": [
    "# Introdução à linguagem Python para Ciência de Dados\n",
    "\n",
    "Este notebook tem como objetivo cobrir conceitos básicos sobre a linguagem Python para uso em tarefas de Ciência de Dados. Os conceitos abaixo já são suficientes para começar a aprender sobre as ferramentas de ciência de dados. Conceitos mais avançados da linguagem serão explorados em outro Notebook. \n",
    "\n",
    "Execute cada célula de código abaixo para ver o resultado da execução dos comandos. Para executar uma célula, clique sobre ela e então clique no ícone `Run` na barra de ferramentas acima.\n",
    "\n",
    "Para aprender outros conceitos e praticar a linguagem Python, os seguintes sites são recomendados:\n",
    "\n",
    "- [W3 Schools - Python](https://www.w3schools.com/python/)\n",
    "- [Python Brasil](https://python.org.br/introducao/)"
   ]
  },
  {
   "cell_type": "markdown",
   "metadata": {},
   "source": [
    "## Comandos e Variáveis\n",
    "\n",
    "Uma linguagem de programação nos permite controlar o que o computador deve fazer através de comandos. Por exemplo, abaixo estamos requisitando que o computador imprima uma mensagem."
   ]
  },
  {
   "cell_type": "code",
   "execution_count": 1,
   "metadata": {},
   "outputs": [
    {
     "name": "stdout",
     "output_type": "stream",
     "text": [
      "Olá Mundo!\n"
     ]
    }
   ],
   "source": [
    "# O código abaixo imprime uma mensagem na tela\n",
    "print(\"Olá Mundo!\")"
   ]
  },
  {
   "cell_type": "markdown",
   "metadata": {},
   "source": [
    "**Variáveis** são usadas para armazenar valores. Sempre que temos que armazenar algo para uso futuro, podemos inicializar uma variável com o valor desejado. Por exemplo, abaixo inicializamos uma variável chamada `mensagem` com o valor `\"Olá Mundo!!!\"`. As aspas indicam que o valor armazenado é uma *String* (texto). "
   ]
  },
  {
   "cell_type": "code",
   "execution_count": null,
   "metadata": {},
   "outputs": [],
   "source": [
    "mensagem = \"Olá Mundo!!!\"\n",
    "\n",
    "print(mensagem)"
   ]
  },
  {
   "cell_type": "markdown",
   "metadata": {},
   "source": [
    "Variáveis também podem armazenar valores numéricos. Abaixo definimos duas variáveis contendo números *Inteiros*. Em seguida estas variáveis são usadas para iniciar uma terceira variável, que neste caso contém o resultado de uma operação de adição."
   ]
  },
  {
   "cell_type": "code",
   "execution_count": null,
   "metadata": {},
   "outputs": [],
   "source": [
    "area1 = 45\n",
    "area2 = 60\n",
    "\n",
    "total = area1 + area2\n",
    "\n",
    "print(total)\n",
    "\n",
    "print(\"Área total:\", total)"
   ]
  },
  {
   "cell_type": "markdown",
   "metadata": {},
   "source": [
    "Para que um comando seja ignorado ou para deixar claro o que uma linha de código está fazendo, podemos usar **comentários de código**. Basta iniciar a linha a ser comentada com um `#`. Veja exemplos abaixo."
   ]
  },
  {
   "cell_type": "code",
   "execution_count": null,
   "metadata": {},
   "outputs": [],
   "source": [
    "area1 = 45\n",
    "area2 = 60\n",
    "\n",
    "# Total recebe a soma de area1 e area2\n",
    "total = area1 + area2\n",
    "\n",
    "print(\"Área total:\", total)"
   ]
  },
  {
   "cell_type": "markdown",
   "metadata": {},
   "source": [
    "### Operações\n",
    "\n",
    "Na célula acima utilizamos a operação de soma para obter o valor total da área. As demais operações matemáticas básicas são:\n",
    "\n",
    "- Subtração: -\n",
    "- Multiplicação: *\n",
    "- Divisão: /\n"
   ]
  },
  {
   "cell_type": "markdown",
   "metadata": {},
   "source": [
    "### Exercício\n",
    "\n",
    "Execute abaixo os comandos necessários para calcular a média das áreas usando as variáveis definidas acima. Imprima o resultado com o comando `print`."
   ]
  },
  {
   "cell_type": "code",
   "execution_count": null,
   "metadata": {},
   "outputs": [],
   "source": [
    "# Responda aqui\n",
    "\n"
   ]
  },
  {
   "cell_type": "markdown",
   "metadata": {},
   "source": [
    "## Listas"
   ]
  },
  {
   "cell_type": "markdown",
   "metadata": {},
   "source": [
    "Listas são variáveis que armazenam sequências de valores. Abaixo definimos duas listas contendo informações sobre apartamentos (rua, área e valor do aluguel). "
   ]
  },
  {
   "cell_type": "code",
   "execution_count": null,
   "metadata": {},
   "outputs": [],
   "source": [
    "apartamento1 = [\"Av V. Guarapuava, 1000\", 45, 800]\n",
    "apartamento2 = [\"Av Sete de Setembro, 170\", area2, 700 + 250]\n",
    "\n",
    "print(apartamento1)\n",
    "print(apartamento2)"
   ]
  },
  {
   "cell_type": "markdown",
   "metadata": {},
   "source": [
    "Para ter acesso a um valor dentro de uma lista, usamos o índice do item desejado entre colchetes. Por exemplo, abaixo obtemos o valor do terceiro item da lista `apartamento1`. Perceba que os índices iniciam do 0, por isso o primeiro valor é de índice 0, o segundo de índice 1, etc. "
   ]
  },
  {
   "cell_type": "code",
   "execution_count": null,
   "metadata": {},
   "outputs": [],
   "source": [
    "apartamento1 = [\"Av V. Guarapuava, 1000\", 45, 800]\n",
    "\n",
    "aluguel1 = apartamento1[2]\n",
    "\n",
    "aluguel1"
   ]
  },
  {
   "cell_type": "markdown",
   "metadata": {},
   "source": [
    "Também podemos atribuir um novo valor em uma posição de índice. Abaixo atribuimos o valor 850 para o terceiro item da lista."
   ]
  },
  {
   "cell_type": "code",
   "execution_count": null,
   "metadata": {},
   "outputs": [],
   "source": [
    "apartamento1[2] = 850\n",
    "\n",
    "apartamento1"
   ]
  },
  {
   "cell_type": "markdown",
   "metadata": {},
   "source": [
    "Podemos criar listas vazias como na primeira linha abaixo. Para adicionar valores em uma lista (vazia ou não), usa-se o método `append`. Abaixo adicionamos informações sobre um outro apartamento, um valor por vez."
   ]
  },
  {
   "cell_type": "code",
   "execution_count": null,
   "metadata": {},
   "outputs": [],
   "source": [
    "apartamento3 = []\n",
    "\n",
    "apartamento3.append(\"Av Marechal Deodoro, 2130\")\n",
    "apartamento3.append(50)\n",
    "apartamento3.append(1050)\n",
    "\n",
    "apartamento3"
   ]
  },
  {
   "cell_type": "markdown",
   "metadata": {},
   "source": [
    "Podemos também criar uma lista que contém outras listas. Abaixo criamos a lista `apartamentos` que contém os três apartamentos definidos anteriormente."
   ]
  },
  {
   "cell_type": "code",
   "execution_count": null,
   "metadata": {},
   "outputs": [],
   "source": [
    "apartamentos = [apartamento1, apartamento2, apartamento3]\n",
    "\n",
    "apartamentos"
   ]
  },
  {
   "cell_type": "markdown",
   "metadata": {},
   "source": [
    "Podemos acessar cada apartamento usando os índices, como anteriormente:"
   ]
  },
  {
   "cell_type": "code",
   "execution_count": null,
   "metadata": {},
   "outputs": [],
   "source": [
    "apartamentos[1]"
   ]
  },
  {
   "cell_type": "markdown",
   "metadata": {},
   "source": [
    "Para acessar valores nas listas internas, primmeiro especificamos o índice na lista principal seguido do índice na lista interna. Por exemplo, abaixo obtemos o terceiro valor do segundo apartamento na lista."
   ]
  },
  {
   "cell_type": "code",
   "execution_count": null,
   "metadata": {},
   "outputs": [],
   "source": [
    "apartamentos[1][2]"
   ]
  },
  {
   "cell_type": "markdown",
   "metadata": {},
   "source": [
    "### Exercício\n",
    "\n",
    "Adicione um novo apartamento à lista *apartamentos* (defina os dados como preferir). Calcule a área média dos apartamentos contidos na lista."
   ]
  },
  {
   "cell_type": "code",
   "execution_count": null,
   "metadata": {},
   "outputs": [],
   "source": [
    "# Responda aqui\n",
    "\n"
   ]
  },
  {
   "cell_type": "markdown",
   "metadata": {},
   "source": [
    "## Importação de módulos\n",
    "\n",
    "Módulos no Python são pacotes que adicionam funcionalidades à linguagem. Por exemplo, o módulo `math` possui diversas funções matemáticas úteis, como potência, raiz quadrada, etc. Abaixo importamos este módulo e imprimimos alguns valores:"
   ]
  },
  {
   "cell_type": "code",
   "execution_count": null,
   "metadata": {},
   "outputs": [],
   "source": [
    "import math\n",
    "\n",
    "print(math.pi)"
   ]
  },
  {
   "cell_type": "markdown",
   "metadata": {},
   "source": [
    "Podemos dar apelidos aos módulos. Abaixo usamos o apelido `m` para o módulo `math`."
   ]
  },
  {
   "cell_type": "code",
   "execution_count": null,
   "metadata": {},
   "outputs": [],
   "source": [
    "import math as m\n",
    "\n",
    "# imprime a raiz quadrada de 4\n",
    "print(m.sqrt(4))"
   ]
  },
  {
   "cell_type": "markdown",
   "metadata": {},
   "source": [
    "Podemos também importar funções individuais. Abaixo importamos apenas a função `sqrt`. Desta forma não precisamos usar o nome do módulo ao chamar a função."
   ]
  },
  {
   "cell_type": "code",
   "execution_count": null,
   "metadata": {},
   "outputs": [],
   "source": [
    "from math import sqrt\n",
    "\n",
    "print(sqrt(4))"
   ]
  }
 ],
 "metadata": {
  "hide_input": false,
  "kernelspec": {
   "display_name": "Python 3",
   "language": "python",
   "name": "python3"
  },
  "language_info": {
   "codemirror_mode": {
    "name": "ipython",
    "version": 3
   },
   "file_extension": ".py",
   "mimetype": "text/x-python",
   "name": "python",
   "nbconvert_exporter": "python",
   "pygments_lexer": "ipython3",
   "version": "3.7.3"
  }
 },
 "nbformat": 4,
 "nbformat_minor": 1
}
