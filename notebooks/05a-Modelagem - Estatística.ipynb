{
 "cells": [
  {
   "cell_type": "markdown",
   "metadata": {},
   "source": [
    "# Introdução a Análise Estatística em Python\n",
    "\n",
    "Análises estatísticas são fundamentais em qualquer tarefa de Ciência de Dados. Neste notebook apresentamos conceitos básicos do uso da biblioteca [StatsModels](https://www.statsmodels.org), que implementa uma grande gama de modelos estatísticos."
   ]
  },
  {
   "cell_type": "code",
   "execution_count": 1,
   "metadata": {},
   "outputs": [],
   "source": [
    "# Importação de pacotes\n",
    "import pandas as pd\n",
    "\n",
    "%matplotlib inline"
   ]
  },
  {
   "cell_type": "markdown",
   "metadata": {},
   "source": [
    "## Lendo dados de um arquivo\n",
    "\n",
    "O DataFrame carregado contém dados de apartamentos para alugar na cidade de Curitiba."
   ]
  },
  {
   "cell_type": "code",
   "execution_count": 3,
   "metadata": {},
   "outputs": [
    {
     "data": {
      "text/html": [
       "<div>\n",
       "<style scoped>\n",
       "    .dataframe tbody tr th:only-of-type {\n",
       "        vertical-align: middle;\n",
       "    }\n",
       "\n",
       "    .dataframe tbody tr th {\n",
       "        vertical-align: top;\n",
       "    }\n",
       "\n",
       "    .dataframe thead th {\n",
       "        text-align: right;\n",
       "    }\n",
       "</style>\n",
       "<table border=\"1\" class=\"dataframe\">\n",
       "  <thead>\n",
       "    <tr style=\"text-align: right;\">\n",
       "      <th></th>\n",
       "      <th>codigo</th>\n",
       "      <th>endereco</th>\n",
       "      <th>quartos</th>\n",
       "      <th>suite</th>\n",
       "      <th>area</th>\n",
       "      <th>vaga</th>\n",
       "      <th>aluguel</th>\n",
       "      <th>condominio</th>\n",
       "      <th>data</th>\n",
       "    </tr>\n",
       "  </thead>\n",
       "  <tbody>\n",
       "    <tr>\n",
       "      <td>0</td>\n",
       "      <td>34</td>\n",
       "      <td>Rua Desembargador Westphalen</td>\n",
       "      <td>2</td>\n",
       "      <td>0</td>\n",
       "      <td>90</td>\n",
       "      <td>0</td>\n",
       "      <td>900</td>\n",
       "      <td>371</td>\n",
       "      <td>11/10/17</td>\n",
       "    </tr>\n",
       "    <tr>\n",
       "      <td>1</td>\n",
       "      <td>167</td>\n",
       "      <td>Rua Jose Loureiro</td>\n",
       "      <td>2</td>\n",
       "      <td>0</td>\n",
       "      <td>64</td>\n",
       "      <td>0</td>\n",
       "      <td>650</td>\n",
       "      <td>428</td>\n",
       "      <td>15/07/17</td>\n",
       "    </tr>\n",
       "    <tr>\n",
       "      <td>2</td>\n",
       "      <td>6784</td>\n",
       "      <td>Rua Jose Loureiro</td>\n",
       "      <td>2</td>\n",
       "      <td>0</td>\n",
       "      <td>81</td>\n",
       "      <td>0</td>\n",
       "      <td>1100</td>\n",
       "      <td>400</td>\n",
       "      <td>23/08/17</td>\n",
       "    </tr>\n",
       "  </tbody>\n",
       "</table>\n",
       "</div>"
      ],
      "text/plain": [
       "   codigo                      endereco  quartos  suite  area  vaga  aluguel  \\\n",
       "0      34  Rua Desembargador Westphalen        2      0    90     0      900   \n",
       "1     167             Rua Jose Loureiro        2      0    64     0      650   \n",
       "2    6784             Rua Jose Loureiro        2      0    81     0     1100   \n",
       "\n",
       "   condominio      data  \n",
       "0         371  11/10/17  \n",
       "1         428  15/07/17  \n",
       "2         400  23/08/17  "
      ]
     },
     "execution_count": 3,
     "metadata": {},
     "output_type": "execute_result"
    }
   ],
   "source": [
    "# lê o arquivo CSV\n",
    "df = pd.read_csv('../data/aluguel.csv')\n",
    "# mostra o conteúdo do DataFrame\n",
    "df.head(3)"
   ]
  },
  {
   "cell_type": "markdown",
   "metadata": {},
   "source": [
    "## Comparando médias\n",
    "\n",
    "Frequentemente precisamos medir e comparar médias de subconjuntos dos nossos dados. Por exemplo, podemos querer medir a média dos valores dos aluguéis para se ter uma ideia do custo de vida na cidade de Curitiba. \n",
    "\n",
    "Porém, para sabermos com certeza o valor da média dos aluguéis, precisaríamos ter **todos** os valores de todos os aluguéis das cidade. Como obter todos os valores é quase sempre impossível, fazemos uma amostragem e usamos a média da amostragem como sendo uma média estimada dos valores.\n",
    "\n",
    "No nosso caso, a amostra são os 20 apartamentos presentes no DataFrame. Como temos poucos dados, é de se esperar que eles nos dão pouca certeza sobre o verdadeiro valor da média. Uma forma de calcular esta certeza é usando intervalos de confiança. O exemplo abaixo calcula a média dos aluguéis e respectivo intervalo de confiança. O intervalo indica que a média real dos aluguéis (considerando que nossa amostragem foi aleatória, o que não é verdade), deve ser entre 745 e 1050."
   ]
  },
  {
   "cell_type": "code",
   "execution_count": 4,
   "metadata": {},
   "outputs": [
    {
     "name": "stdout",
     "output_type": "stream",
     "text": [
      "Média:  898.0 Intervalo:  (745.3791042764885, 1050.6208957235115)\n"
     ]
    }
   ],
   "source": [
    "import statsmodels.stats.api as sms\n",
    "\n",
    "media = df['aluguel'].mean()\n",
    "\n",
    "intervalo = sms.DescrStatsW(df['aluguel']).tconfint_mean()\n",
    "\n",
    "print(\"Média: \", media, \"Intervalo: \", intervalo)"
   ]
  },
  {
   "cell_type": "markdown",
   "metadata": {},
   "source": [
    "Podemos também querer saber se existe diferença significativa entre as médias dos valores de aluguéis de 1 e 2 quartos. No exemplo abaixo criamos dois dataframes para cada quantidade de quartos e usamos o método `CompareMeans` para obter estatísticas sobre a diferença dos valores das médias. O resultado indica que, com 95% de certeza, podemos afirmar que a diferença entre as médias é entre -641 e -146. Como temos uma boa certeza que a diferença não é zero, podemos afirmar que aluguéis de 2 quartos são mais caros que os de 1."
   ]
  },
  {
   "cell_type": "code",
   "execution_count": 8,
   "metadata": {},
   "outputs": [
    {
     "data": {
      "text/html": [
       "<table class=\"simpletable\">\n",
       "<caption>Test for equality of means</caption>\n",
       "<tr>\n",
       "      <td></td>         <th>coef</th>     <th>std err</th>      <th>t</th>      <th>P>|t|</th>  <th>[0.025</th>    <th>0.975]</th>  \n",
       "</tr>\n",
       "<tr>\n",
       "  <th>subset #1</th> <td> -394.0000</td> <td>  117.584</td> <td>   -3.351</td> <td> 0.004</td> <td> -641.035</td> <td> -146.965</td>\n",
       "</tr>\n",
       "</table>"
      ],
      "text/plain": [
       "<class 'statsmodels.iolib.table.SimpleTable'>"
      ]
     },
     "execution_count": 8,
     "metadata": {},
     "output_type": "execute_result"
    }
   ],
   "source": [
    "df_1q = df[df['quartos']==1]\n",
    "df_2q = df[df['quartos']==2]\n",
    "\n",
    "cm = sms.CompareMeans(sms.DescrStatsW(df_1q['aluguel']), sms.DescrStatsW(df_2q['aluguel']))\n",
    "cm.summary()"
   ]
  },
  {
   "cell_type": "markdown",
   "metadata": {},
   "source": [
    "Já para a diferença entre médias de condomínios, não podemos afirmar com certeza que condomínios de apartamentos de 2 quartos são mais caros do que os de 1. Veja que a diferença entre as médias pode ser 0, com isso não temos evidências suficientes para dizer que as médias são diferentes. Isto tambeḿ é mostrado pelo alto valor de *P* (0.36)."
   ]
  },
  {
   "cell_type": "code",
   "execution_count": 17,
   "metadata": {},
   "outputs": [
    {
     "data": {
      "text/html": [
       "<table class=\"simpletable\">\n",
       "<caption>Test for equality of means</caption>\n",
       "<tr>\n",
       "      <td></td>         <th>coef</th>     <th>std err</th>      <th>t</th>      <th>P>|t|</th>  <th>[0.025</th>    <th>0.975]</th>  \n",
       "</tr>\n",
       "<tr>\n",
       "  <th>subset #1</th> <td>  -38.5000</td> <td>   41.387</td> <td>   -0.930</td> <td> 0.365</td> <td> -125.451</td> <td>   48.451</td>\n",
       "</tr>\n",
       "</table>"
      ],
      "text/plain": [
       "<class 'statsmodels.iolib.table.SimpleTable'>"
      ]
     },
     "execution_count": 17,
     "metadata": {},
     "output_type": "execute_result"
    }
   ],
   "source": [
    "cm = sms.CompareMeans(sms.DescrStatsW(df_1q['condominio']), sms.DescrStatsW(df_2q['condominio']))\n",
    "cm.summary()"
   ]
  },
  {
   "cell_type": "markdown",
   "metadata": {},
   "source": [
    "## Regressão Linear\n"
   ]
  },
  {
   "cell_type": "markdown",
   "metadata": {},
   "source": [
    "Modelos de regressão são muito importantes em Ciência de Dados. Eles são usados para se entender a influência das variáveis sobre um determinado aspecto ou para prever o comportamento deste aspecto. Por exemplo, podemos querer entender como as variáveis `quartos, area, vaga` influenciam no valor do aluguel. \n",
    "\n",
    "Abaixo construímos um modelo de regressão linear. O sumário apresentado mostra que o modelo captura relativamente bem a variância no nosso problema (R-squared = 0.62). Das variáveis incluídas, apenas a área se mostrou confiável para explicar o valor do aluguel (P = 0.02). \n",
    "\n",
    "Este é um modelo simples e estamos desconsiderando diversas questões (como covariância entre as variáveis). "
   ]
  },
  {
   "cell_type": "code",
   "execution_count": 9,
   "metadata": {},
   "outputs": [
    {
     "data": {
      "text/html": [
       "<table class=\"simpletable\">\n",
       "<caption>OLS Regression Results</caption>\n",
       "<tr>\n",
       "  <th>Dep. Variable:</th>         <td>aluguel</td>     <th>  R-squared:         </th> <td>   0.626</td>\n",
       "</tr>\n",
       "<tr>\n",
       "  <th>Model:</th>                   <td>OLS</td>       <th>  Adj. R-squared:    </th> <td>   0.556</td>\n",
       "</tr>\n",
       "<tr>\n",
       "  <th>Method:</th>             <td>Least Squares</td>  <th>  F-statistic:       </th> <td>   8.933</td>\n",
       "</tr>\n",
       "<tr>\n",
       "  <th>Date:</th>             <td>Tue, 17 Sep 2019</td> <th>  Prob (F-statistic):</th>  <td>0.00104</td>\n",
       "</tr>\n",
       "<tr>\n",
       "  <th>Time:</th>                 <td>15:05:46</td>     <th>  Log-Likelihood:    </th> <td> -133.77</td>\n",
       "</tr>\n",
       "<tr>\n",
       "  <th>No. Observations:</th>      <td>    20</td>      <th>  AIC:               </th> <td>   275.5</td>\n",
       "</tr>\n",
       "<tr>\n",
       "  <th>Df Residuals:</th>          <td>    16</td>      <th>  BIC:               </th> <td>   279.5</td>\n",
       "</tr>\n",
       "<tr>\n",
       "  <th>Df Model:</th>              <td>     3</td>      <th>                     </th>     <td> </td>   \n",
       "</tr>\n",
       "<tr>\n",
       "  <th>Covariance Type:</th>      <td>nonrobust</td>    <th>                     </th>     <td> </td>   \n",
       "</tr>\n",
       "</table>\n",
       "<table class=\"simpletable\">\n",
       "<tr>\n",
       "      <td></td>         <th>coef</th>     <th>std err</th>      <th>t</th>      <th>P>|t|</th>  <th>[0.025</th>    <th>0.975]</th>  \n",
       "</tr>\n",
       "<tr>\n",
       "  <th>Intercept</th> <td>  104.7992</td> <td>  166.560</td> <td>    0.629</td> <td> 0.538</td> <td> -248.293</td> <td>  457.891</td>\n",
       "</tr>\n",
       "<tr>\n",
       "  <th>quartos</th>   <td>  173.0788</td> <td>  138.969</td> <td>    1.245</td> <td> 0.231</td> <td> -121.522</td> <td>  467.680</td>\n",
       "</tr>\n",
       "<tr>\n",
       "  <th>area</th>      <td>    8.4528</td> <td>    3.448</td> <td>    2.452</td> <td> 0.026</td> <td>    1.144</td> <td>   15.762</td>\n",
       "</tr>\n",
       "<tr>\n",
       "  <th>vaga</th>      <td>  -36.8360</td> <td>  144.643</td> <td>   -0.255</td> <td> 0.802</td> <td> -343.466</td> <td>  269.794</td>\n",
       "</tr>\n",
       "</table>\n",
       "<table class=\"simpletable\">\n",
       "<tr>\n",
       "  <th>Omnibus:</th>       <td> 2.313</td> <th>  Durbin-Watson:     </th> <td>   1.468</td>\n",
       "</tr>\n",
       "<tr>\n",
       "  <th>Prob(Omnibus):</th> <td> 0.315</td> <th>  Jarque-Bera (JB):  </th> <td>   1.085</td>\n",
       "</tr>\n",
       "<tr>\n",
       "  <th>Skew:</th>          <td> 0.552</td> <th>  Prob(JB):          </th> <td>   0.581</td>\n",
       "</tr>\n",
       "<tr>\n",
       "  <th>Kurtosis:</th>      <td> 3.288</td> <th>  Cond. No.          </th> <td>    279.</td>\n",
       "</tr>\n",
       "</table><br/><br/>Warnings:<br/>[1] Standard Errors assume that the covariance matrix of the errors is correctly specified."
      ],
      "text/plain": [
       "<class 'statsmodels.iolib.summary.Summary'>\n",
       "\"\"\"\n",
       "                            OLS Regression Results                            \n",
       "==============================================================================\n",
       "Dep. Variable:                aluguel   R-squared:                       0.626\n",
       "Model:                            OLS   Adj. R-squared:                  0.556\n",
       "Method:                 Least Squares   F-statistic:                     8.933\n",
       "Date:                Tue, 17 Sep 2019   Prob (F-statistic):            0.00104\n",
       "Time:                        15:05:46   Log-Likelihood:                -133.77\n",
       "No. Observations:                  20   AIC:                             275.5\n",
       "Df Residuals:                      16   BIC:                             279.5\n",
       "Df Model:                           3                                         \n",
       "Covariance Type:            nonrobust                                         \n",
       "==============================================================================\n",
       "                 coef    std err          t      P>|t|      [0.025      0.975]\n",
       "------------------------------------------------------------------------------\n",
       "Intercept    104.7992    166.560      0.629      0.538    -248.293     457.891\n",
       "quartos      173.0788    138.969      1.245      0.231    -121.522     467.680\n",
       "area           8.4528      3.448      2.452      0.026       1.144      15.762\n",
       "vaga         -36.8360    144.643     -0.255      0.802    -343.466     269.794\n",
       "==============================================================================\n",
       "Omnibus:                        2.313   Durbin-Watson:                   1.468\n",
       "Prob(Omnibus):                  0.315   Jarque-Bera (JB):                1.085\n",
       "Skew:                           0.552   Prob(JB):                        0.581\n",
       "Kurtosis:                       3.288   Cond. No.                         279.\n",
       "==============================================================================\n",
       "\n",
       "Warnings:\n",
       "[1] Standard Errors assume that the covariance matrix of the errors is correctly specified.\n",
       "\"\"\""
      ]
     },
     "execution_count": 9,
     "metadata": {},
     "output_type": "execute_result"
    }
   ],
   "source": [
    "from statsmodels.formula.api import ols\n",
    "\n",
    "model = ols(\"aluguel ~ quartos + area + vaga\", data=df)\n",
    "response = model.fit()\n",
    "response.summary()"
   ]
  },
  {
   "cell_type": "markdown",
   "metadata": {},
   "source": [
    "Usando o modelo contruído acima, podemos prever o valor do aluguel para um apartamento qualquer. Abaixo especificamos os dados de um novo apartamento e o modelo previu que seu aluguel deve custar 921."
   ]
  },
  {
   "cell_type": "code",
   "execution_count": 45,
   "metadata": {},
   "outputs": [
    {
     "data": {
      "text/plain": [
       "0    921.290363\n",
       "dtype: float64"
      ]
     },
     "execution_count": 45,
     "metadata": {},
     "output_type": "execute_result"
    }
   ],
   "source": [
    "novo_apartamento = pd.DataFrame([{'quartos': 2, 'area': 60, 'vaga': 1}])\n",
    "response.predict(novo_apartamento)"
   ]
  }
 ],
 "metadata": {
  "hide_input": false,
  "kernelspec": {
   "display_name": "Python 3",
   "language": "python",
   "name": "python3"
  },
  "language_info": {
   "codemirror_mode": {
    "name": "ipython",
    "version": 3
   },
   "file_extension": ".py",
   "mimetype": "text/x-python",
   "name": "python",
   "nbconvert_exporter": "python",
   "pygments_lexer": "ipython3",
   "version": "3.7.3"
  }
 },
 "nbformat": 4,
 "nbformat_minor": 2
}
