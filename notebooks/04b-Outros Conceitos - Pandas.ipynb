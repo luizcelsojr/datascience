{
 "cells": [
  {
   "cell_type": "markdown",
   "metadata": {},
   "source": [
    "# Introdução a Pandas para Ciência de Dados - Conceitos intermediários\n",
    "\n",
    "Neste notebook apresentamos outros conceitos importantes do Pandas. \n"
   ]
  },
  {
   "cell_type": "markdown",
   "metadata": {},
   "source": [
    "## Inicializando DataFrames a partir de dicionários\n",
    "\n",
    "Uma das formas mais fácies de se inicializar um DataFrame é usando dicionários. Uma lista de dicionários pode ser usada para compor as linhas do DataFrame como no exemplo abaixo:"
   ]
  },
  {
   "cell_type": "code",
   "execution_count": null,
   "metadata": {},
   "outputs": [],
   "source": [
    "import pandas as pd\n",
    "\n",
    "ap1 = {'endereco': 'Av V. Guarapuava, 1000', 'area': 45, 'aluguel': 800}\n",
    "ap2 = {'endereco': 'Av Sete de Setembro, 170', 'area': 53, 'aluguel': 950}\n",
    "\n",
    "apartamentos = [ap1, ap2]\n",
    "\n",
    "df = pd.DataFrame(apartamentos)\n",
    "df"
   ]
  },
  {
   "cell_type": "markdown",
   "metadata": {},
   "source": [
    "Podemos usar um dicionário para adicionar uma nova linha a um DataFrame:"
   ]
  },
  {
   "cell_type": "code",
   "execution_count": null,
   "metadata": {},
   "outputs": [],
   "source": [
    "ap3 = {'endereco': 'Av Sete de Setembro, 830', 'area': 35, 'aluguel': 850}\n",
    "\n",
    "df = df.append([ap3])\n",
    "df"
   ]
  },
  {
   "cell_type": "code",
   "execution_count": null,
   "metadata": {},
   "outputs": [],
   "source": [
    "# usando o endereço como índice para os próximos exemplos\n",
    "df = df.set_index('endereco')\n",
    "df"
   ]
  },
  {
   "cell_type": "markdown",
   "metadata": {},
   "source": [
    "## Iterando sobre um DataFrame\n",
    "\n",
    "Podemos usar o comando `for` para analisar um DataFrame linha por linha. Para isto usamos o método `iterrows`. O exemplo abaixo calcula a média dos valores dos aluguéis:"
   ]
  },
  {
   "cell_type": "code",
   "execution_count": null,
   "metadata": {},
   "outputs": [],
   "source": [
    "total = 0\n",
    "for indice, apartamento in df.iterrows():\n",
    "    print(\"Aluguel {}: {}\".format(indice, apartamento['aluguel']))\n",
    "    total = total + apartamento['aluguel']\n",
    "    \n",
    "media = total/len(df)\n",
    "print(\"Média:\", media)"
   ]
  },
  {
   "cell_type": "markdown",
   "metadata": {},
   "source": [
    "## Filtrando linhas com o método query()\n",
    "\n",
    "Uma forma conveniente de filtrar linhas é usando o método query. No exemplo abaixo selecionamos apenas as linhas com área maior que 40 e aluguel menor que 900."
   ]
  },
  {
   "cell_type": "code",
   "execution_count": null,
   "metadata": {},
   "outputs": [],
   "source": [
    "df.query(\"area > 40 and aluguel < 900\")"
   ]
  },
  {
   "cell_type": "markdown",
   "metadata": {},
   "source": [
    "O comando acima é equivalente a:"
   ]
  },
  {
   "cell_type": "code",
   "execution_count": null,
   "metadata": {},
   "outputs": [],
   "source": [
    "df[(df['area'] > 40) & (df['aluguel'] < 900)]"
   ]
  },
  {
   "cell_type": "markdown",
   "metadata": {},
   "source": [
    "## Blocos básicos de um DataFrame\n",
    "\n",
    "Um bloco básico na construção de um DataFrame é a Série (Series). Cada coluna de um DataFrame é uma Series. Uma Series contém um nome, um índice e uma lista (array) de valores. Veja os exemplos abaixo baseados na coluna *aluguel*:"
   ]
  },
  {
   "cell_type": "code",
   "execution_count": null,
   "metadata": {},
   "outputs": [],
   "source": [
    "coluna_aluguel = df['aluguel']\n",
    "\n",
    "# Verificando o tipo da coluna\n",
    "type(coluna_aluguel)"
   ]
  },
  {
   "cell_type": "markdown",
   "metadata": {},
   "source": [
    "Índice:"
   ]
  },
  {
   "cell_type": "code",
   "execution_count": null,
   "metadata": {},
   "outputs": [],
   "source": [
    "coluna_aluguel_index = coluna_aluguel.index\n",
    "\n",
    "# Mostrando o tipo e valores do índice\n",
    "print(type(coluna_aluguel_index))\n",
    "print(coluna_aluguel_index)"
   ]
  },
  {
   "cell_type": "markdown",
   "metadata": {},
   "source": [
    "Valores:"
   ]
  },
  {
   "cell_type": "code",
   "execution_count": null,
   "metadata": {},
   "outputs": [],
   "source": [
    "coluna_aluguel_valores = coluna_aluguel.values\n",
    "\n",
    "# Mostrando o tipo e valores do índice\n",
    "print(type(coluna_aluguel_valores))\n",
    "print(coluna_aluguel_valores)"
   ]
  },
  {
   "cell_type": "markdown",
   "metadata": {},
   "source": [
    "Como pôde ser visto no exemplo acima, o tipo da coluna aluguéis é `numpy.ndarray`. O Numpy é uma bilioteca de estruturas de dados e operações matemáticas. Abaixo importamos o pacote numpy e usamos uma de suas funções nos valores da coluna:"
   ]
  },
  {
   "cell_type": "code",
   "execution_count": null,
   "metadata": {},
   "outputs": [],
   "source": [
    "import numpy as np\n",
    "\n",
    "np.mean(coluna_aluguel_valores)"
   ]
  },
  {
   "cell_type": "code",
   "execution_count": null,
   "metadata": {},
   "outputs": [],
   "source": [
    "# Reiniciando índice e adicionando valores para os próximos exemplos\n",
    "df = df.reset_index()\n",
    "df = df.append([{'endereco': 'Av Sete de Setembro, 730', 'area': np.NaN, 'aluguel': 775}]).reset_index(drop=True)\n",
    "df"
   ]
  },
  {
   "cell_type": "markdown",
   "metadata": {},
   "source": [
    "## Método apply(), eixos de um DataFrame, função *lambda*\n",
    "\n",
    "O método `apply()` aplica uma função a colunas ou linhas de um DataFrame. No exemplo abaixo definimos uma função que conta o número de valores nulos em uma coluna. Esta função é então aplicada no DataFrame exibido na célula anterior."
   ]
  },
  {
   "cell_type": "code",
   "execution_count": null,
   "metadata": {},
   "outputs": [],
   "source": [
    "def conta_nan(coluna):\n",
    "    return coluna.isna().sum()\n",
    "\n",
    "df.apply(conta_nan)"
   ]
  },
  {
   "cell_type": "markdown",
   "metadata": {},
   "source": [
    "Uma função também pode ser aplicada sobre valores das linhas de um DataFrame. No caso abaixo, definimos a função `aumenta_aluguel()` e a aplicamos às linhas do DataFrame para criar uma nova coluna com um valor maior para o aluguel. Para especificar que precisamos aplicar a função às linhas, definimos o parâmetro `axis=1`."
   ]
  },
  {
   "cell_type": "code",
   "execution_count": null,
   "metadata": {},
   "outputs": [],
   "source": [
    "def aumenta_aluguel(linha):\n",
    "    return linha['aluguel'] + linha['aluguel']*0.1\n",
    "\n",
    "df['novo aluguel'] = df.apply(aumenta_aluguel, axis=1)\n",
    "\n",
    "df"
   ]
  },
  {
   "cell_type": "markdown",
   "metadata": {},
   "source": [
    "O Python possui o conceito de \"função anônima\", ou \"função lambda\". Este recurso é útil para especificar um função simples sem precisar defini-la. Abaixo construímos uma função lambda que retorna apenas a parte do número do endereço de um apartamento."
   ]
  },
  {
   "cell_type": "code",
   "execution_count": null,
   "metadata": {},
   "outputs": [],
   "source": [
    "df['numero ap.'] = df.apply(lambda x: x['endereco'].split(',')[1], axis=1)\n",
    "df"
   ]
  },
  {
   "cell_type": "markdown",
   "metadata": {},
   "source": [
    "O código acima é equivalente à sequência abaixo:"
   ]
  },
  {
   "cell_type": "code",
   "execution_count": null,
   "metadata": {},
   "outputs": [],
   "source": [
    "def obtem_numero(linha):\n",
    "    numero = linha['endereco'].split(',')[1]\n",
    "    return numero\n",
    "\n",
    "df['numero ap.'] = df.apply(obtem_numero, axis=1)\n",
    "df"
   ]
  },
  {
   "cell_type": "markdown",
   "metadata": {},
   "source": [
    "## Tratando DataFrames grandes\n",
    "\n",
    "Muitas vezes precisamos processar dados que não cabem na memória do computador ou que demandam procedimentos complexos que deixam o processamento lento. Descrevemos aqui algumas técnicas para amenisar este tipo de problema. Vamos utilizar o dataset de reclamações, inicialmente contendo cerca de 7000 linhas (que é uma quantidade pequena, mas suficiente para os exemplos)."
   ]
  },
  {
   "cell_type": "code",
   "execution_count": null,
   "metadata": {},
   "outputs": [],
   "source": [
    "# lê o arquivo CSV\n",
    "datafile = '../data/2017-02-01_156_-_Base_de_Dados_sample.csv'\n",
    "df = pd.read_csv(datafile, sep=';', encoding='latin-1')\n",
    "\n",
    "print(\"Total de linhas: \", len(df))\n",
    "\n",
    "df.head()"
   ]
  },
  {
   "cell_type": "markdown",
   "metadata": {},
   "source": [
    "Uma forma de reduzir o tamanho de um DataFrame é fazer uma amostragem das linhas. Abaixo fazemos uma amostragem aleatória de 1000 linhas:"
   ]
  },
  {
   "cell_type": "code",
   "execution_count": null,
   "metadata": {},
   "outputs": [],
   "source": [
    "df_sample = df.sample(1000)\n",
    "\n",
    "print(len(df_sample))"
   ]
  },
  {
   "cell_type": "markdown",
   "metadata": {},
   "source": [
    "O problema da estratégia de amostragem acima é que os dados já estavam na memória. Portanto, esta estratégia não funcionaria se os dados fossem maior que a memória disponível. Nestes casos precisamos fazer a amostragem no momento da leitura do arquivo de dados.\n",
    "\n",
    "O código abaixo contrói uma lista aleatória de índices de linhas para serem ignoradas. Quando o comando `pd.read_csv()` é chamado, ele carrega na memória somente as linhas que não aparecem na lista gerada (que foi passada no parâmetro *skiprows*)."
   ]
  },
  {
   "cell_type": "code",
   "execution_count": null,
   "metadata": {},
   "outputs": [],
   "source": [
    "import random\n",
    "\n",
    "# Definindo uma semente de geração de números aleatórios para que a seleção seja a mesma em múltiplas execuções do código\n",
    "random.seed(42)\n",
    "\n",
    "# Conta linhas do arquivo de entrada\n",
    "num_linhas = sum(1 for l in open(datafile, encoding='latin-1'))\n",
    "\n",
    "# Define a proporção dos dados a se manter\n",
    "proporcao = 0.1\n",
    "\n",
    "# calcula o tamanho desejado da amostragem\n",
    "novo_tamanho = int(num_linhas * proporcao)\n",
    "\n",
    "# define os valores de índice aleatórios que serão ignorados\n",
    "skip_idx = random.sample(range(1, num_linhas), num_linhas - novo_tamanho)\n",
    "\n",
    "# Lê os dados pulando as linhas definidas\n",
    "df = pd.read_csv(datafile, sep=';', skiprows=skip_idx, encoding='latin-1')\n",
    "\n",
    "print(\"Total de linhas: \", len(df))"
   ]
  },
  {
   "cell_type": "markdown",
   "metadata": {},
   "source": [
    "Outra possibilidade é ler os dados em \"lotes\", processando um número determinado de linhas de cada vez. O código abaixo define o tamanho dos pedaços a serem lidos (no caso 30 linhas). Estes pedaços são lidos um de cada vez e cada um recebe um tratamento de limpeza de dados (linhas com valores nulos são eliminadas). Ao fim, apenas cerca de 3600 linhas restaram no DataFrame contruído pelo procedimento."
   ]
  },
  {
   "cell_type": "code",
   "execution_count": null,
   "metadata": {},
   "outputs": [],
   "source": [
    "chunksize = 30\n",
    "\n",
    "df_limpa = pd.DataFrame()\n",
    "\n",
    "for df_chunk in pd.read_csv(datafile, chunksize=chunksize, sep=';', encoding='latin-1'):\n",
    "    # limpeza de dados no chunk atual:\n",
    "    df_chunk = df_chunk.dropna(how='any', axis=0)\n",
    "    df_limpa = pd.concat([df_limpa, df_chunk])\n",
    "\n",
    "    \n",
    "print(len(df_limpa))\n",
    "df_limpa.head()"
   ]
  }
 ],
 "metadata": {
  "hide_input": false,
  "kernelspec": {
   "display_name": "Python 3",
   "language": "python",
   "name": "python3"
  },
  "language_info": {
   "codemirror_mode": {
    "name": "ipython",
    "version": 3
   },
   "file_extension": ".py",
   "mimetype": "text/x-python",
   "name": "python",
   "nbconvert_exporter": "python",
   "pygments_lexer": "ipython3",
   "version": "3.7.3"
  }
 },
 "nbformat": 4,
 "nbformat_minor": 1
}
