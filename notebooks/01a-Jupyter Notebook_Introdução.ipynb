{
 "cells": [
  {
   "cell_type": "markdown",
   "metadata": {
    "collapsed": true
   },
   "source": [
    "# Introdução a Jupyter Notebook\n",
    "\n",
    "O Jupyter Notebook é uma ferramenta que unifica a escrita de código, sua documentação e a visualização dos resultados. Este texto que você está lendo agora é uma célula de documentação do Jupyter. "
   ]
  },
  {
   "cell_type": "markdown",
   "metadata": {},
   "source": [
    "A célula abaixo é uma célula de código. Para executá-la, clique sobre a célula e então clique no ícone `Run` da barra de ferramentas no topo deste Notebook."
   ]
  },
  {
   "cell_type": "code",
   "execution_count": null,
   "metadata": {},
   "outputs": [],
   "source": [
    "print(\"Olá mundo!\")"
   ]
  },
  {
   "cell_type": "markdown",
   "metadata": {},
   "source": [
    "Fique à vontade para editar a célula acima, trocar a mensagem e executá-la novamente. Para adicionar uma nova célula de código, clique no ícone `+` na barra de ferramentas. Copie o código acima e execute em sua nova célula."
   ]
  },
  {
   "cell_type": "markdown",
   "metadata": {},
   "source": [
    "Para adicionar uma célula de documentação, use novamente o botão \"+\", clique na nova célula e depois clique no drop-down onde está escrito `Markdown` na barra de ferramentas."
   ]
  },
  {
   "cell_type": "markdown",
   "metadata": {},
   "source": [
    "Para editar uma célula de documentação, clique duas vezes na célula. Então comece a escrever o texto que desejar. Ao final clique no botão `Run` para executar a célula."
   ]
  },
  {
   "cell_type": "markdown",
   "metadata": {},
   "source": [
    "## Formatação\n",
    "\n",
    "É possivel formatar a célula de documentação de diversas formas. Para ver como esta célula que você está lendo foi formatada, clique duas vezes para iniciar a edição. A linguagem usada para fazer a formatação é chamada *Markdown*. Ela permite diversas coisas como:\n",
    "\n",
    "- Listas\n",
    "- *Itálico*\n",
    "- **Negrito**\n",
    "- Fórmulas matemáticas: $f(x)=x²+2x+log_2x$\n",
    "- Links: [UTFPR](http://www.utfpr.edu.br)\n",
    "\n",
    "Para conhecer outras possibilidades de uso de *Markdown*, clique em `Help->Markdown` no menu acima.\n"
   ]
  },
  {
   "cell_type": "markdown",
   "metadata": {},
   "source": [
    "Claro, o Jupyter permite códigos e visualizações mais complexas como no exemplo abaixo. Execute a célula para ver o resultado."
   ]
  },
  {
   "cell_type": "code",
   "execution_count": null,
   "metadata": {},
   "outputs": [],
   "source": [
    "import matplotlib.pyplot as plt\n",
    "import numpy as np\n",
    "from matplotlib.patches import Ellipse\n",
    "\n",
    "%matplotlib inline\n",
    "\n",
    "NUM = 250\n",
    "\n",
    "ells = [Ellipse(xy=np.random.rand(2) * 10,\n",
    "                width=np.random.rand(), height=np.random.rand(),\n",
    "                angle=np.random.rand() * 360)\n",
    "        for i in range(NUM)]\n",
    "\n",
    "fig, ax = plt.subplots(subplot_kw={'aspect': 'equal'})\n",
    "for e in ells:\n",
    "    ax.add_artist(e)\n",
    "    e.set_clip_box(ax.bbox)\n",
    "    e.set_alpha(np.random.rand())\n",
    "    e.set_facecolor(np.random.rand(3))\n",
    "\n",
    "ax.set_xlim(0, 10)\n",
    "ax.set_ylim(0, 10)\n",
    "\n",
    "plt.show()"
   ]
  }
 ],
 "metadata": {
  "hide_input": false,
  "kernelspec": {
   "display_name": "Python 3",
   "language": "python",
   "name": "python3"
  },
  "language_info": {
   "codemirror_mode": {
    "name": "ipython",
    "version": 3
   },
   "file_extension": ".py",
   "mimetype": "text/x-python",
   "name": "python",
   "nbconvert_exporter": "python",
   "pygments_lexer": "ipython3",
   "version": "3.7.3"
  }
 },
 "nbformat": 4,
 "nbformat_minor": 1
}
