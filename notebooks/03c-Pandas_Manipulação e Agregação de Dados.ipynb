{
 "cells": [
  {
   "cell_type": "markdown",
   "metadata": {},
   "source": [
    "# Pandas - Manipulação e Agregação de Dados\n",
    "\n",
    "Manipulação e agregação de dados são funcionalidades essenciais no Pandas. O Pandas possui diversos métodos para transformação, agrupamento e agregação dos dados.\n"
   ]
  },
  {
   "cell_type": "code",
   "execution_count": null,
   "metadata": {},
   "outputs": [],
   "source": [
    "#importing libraries\n",
    "import pandas as pd\n",
    "import numpy as np\n",
    "\n",
    "%matplotlib inline"
   ]
  },
  {
   "cell_type": "markdown",
   "metadata": {},
   "source": [
    "## Lendo dados de um arquivo\n",
    "\n",
    "O DataFrame carregado contém dados de apartamento para alugar na cidade de Curitiba."
   ]
  },
  {
   "cell_type": "code",
   "execution_count": null,
   "metadata": {},
   "outputs": [],
   "source": [
    "# lê o arquivo CSV\n",
    "df = pd.read_csv('../data/aluguel.csv')\n",
    "\n",
    "# mostra o conteúdo do DataFrame\n",
    "df"
   ]
  },
  {
   "cell_type": "markdown",
   "metadata": {},
   "source": [
    "## Analisando dados do DataFrame\n"
   ]
  },
  {
   "cell_type": "markdown",
   "metadata": {},
   "source": [
    "### Agrupamento\n",
    "\n",
    "Uma funcionalidade muito útil é o agrupamento de valores. No exemplo abaixo os valores são agrupados de acordo com o número de quartos. A média é calculada para cada valor distinto de número de quartos. Neste caso, apartamentos de 1 quarto têm valor médio de aluguel 701 enquanto os de 2 quartos têm valor médio 1095."
   ]
  },
  {
   "cell_type": "code",
   "execution_count": null,
   "metadata": {},
   "outputs": [],
   "source": [
    "df_grouped = df.groupby(['quartos']).mean()\n",
    "\n",
    "df_grouped"
   ]
  },
  {
   "cell_type": "markdown",
   "metadata": {},
   "source": [
    "Podemos também agrupar por mais de um valor. Abaixo calculamos a média de valor do aluguel agrupando por número de quartos e também o número de vagas. Neste caso, o valor médio de aluguel para apartamentos de 2 quartos sem vaga é de R$ 1216."
   ]
  },
  {
   "cell_type": "code",
   "execution_count": null,
   "metadata": {},
   "outputs": [],
   "source": [
    "df_grouped = df.groupby(['quartos', 'vaga']).mean()[['aluguel']]\n",
    "\n",
    "df_grouped"
   ]
  },
  {
   "cell_type": "markdown",
   "metadata": {},
   "source": [
    "No DataFrame anterior, quartos e vagas fazem parte do índice do DataFrame. Podemos usar o método *reset_index()* para tranformá-los em colunas: "
   ]
  },
  {
   "cell_type": "code",
   "execution_count": null,
   "metadata": {},
   "outputs": [],
   "source": [
    "df_grouped = df.groupby(['quartos', 'vaga']).mean()['aluguel'].reset_index()\n",
    "\n",
    "df_grouped\n",
    "\n"
   ]
  },
  {
   "cell_type": "markdown",
   "metadata": {},
   "source": [
    "### Pivot\n",
    "\n",
    "E podemos usar o método *pivot()* para rearranjar as linhas e colunas. Abaixo fazemos com que o DataFrame seja rearranjado de forma a ter o número de vagas como colunas. Como na visualização anterior, aqui também podemos ver que o valor médio de aluguel para um apartamento com um quarto e sem vaga é de R$ 601."
   ]
  },
  {
   "cell_type": "code",
   "execution_count": null,
   "metadata": {},
   "outputs": [],
   "source": [
    "df_grouped.pivot(index='quartos', columns='vaga', values='aluguel')"
   ]
  },
  {
   "cell_type": "markdown",
   "metadata": {},
   "source": [
    "O método *pivot_table* é parecido com o *pivot()* mas permite também que se especifique uma função para a agregação de valores. Com ele podemos obter os mesmos resultados sem precisar agrupar o DataFrame, como é mostrado abaixo:"
   ]
  },
  {
   "cell_type": "code",
   "execution_count": null,
   "metadata": {},
   "outputs": [],
   "source": [
    "df.pivot_table(index='quartos', columns='vaga', values='aluguel', aggfunc=np.mean)"
   ]
  },
  {
   "cell_type": "markdown",
   "metadata": {},
   "source": [
    "### Crosstab\n",
    "\n",
    "O comando *crosstab* relaciona duas colunas para criar um novo DataFrame com valores nas células representando a quantidade de instâncias de cada tipo. Por exemplo, abaixo podemos ver que o DataFrame original tem 6 ofertas de aluguel com 1 quarto e 0 vagas."
   ]
  },
  {
   "cell_type": "code",
   "execution_count": null,
   "metadata": {},
   "outputs": [],
   "source": [
    "pd.crosstab(df['quartos'], df['vaga'])"
   ]
  },
  {
   "cell_type": "markdown",
   "metadata": {},
   "source": [
    "## Junção de Dados"
   ]
  },
  {
   "cell_type": "markdown",
   "metadata": {},
   "source": [
    "Quando temos dois DataFrames e precisamos uni-los, usamos as funcionalidades de junção de dados. Existem vários métodos para fazer junção, dependendo do resultado esperado. Para os exemplos desta seção vamos continuar usando o DataFrame de apartamentos (repetido abaixo) e vamos também definir um novo DataFrame (na célula seguinte) contendo códigos de apartamentos e imobiliárias fictícias respensáveis por eles."
   ]
  },
  {
   "cell_type": "code",
   "execution_count": null,
   "metadata": {},
   "outputs": [],
   "source": [
    "df"
   ]
  },
  {
   "cell_type": "code",
   "execution_count": null,
   "metadata": {},
   "outputs": [],
   "source": [
    "# Criando um novo DataFrame para ser usado na junção\n",
    "df_imobiliarias = pd.DataFrame()\n",
    "df_imobiliarias['codigo'] = [469,74,59375, 2381, 34]\n",
    "df_imobiliarias['imobiliaria'] = ['Apollo', 'ImobiOne', 'ImobiOne', 'Apollo', 'ImobiTwo']\n",
    "\n",
    "df_imobiliarias"
   ]
  },
  {
   "cell_type": "markdown",
   "metadata": {},
   "source": [
    "O método mais usado para junção de duas colunas é o *merge*. No exemplo abaixo a aplicação do método retorna um novo DataFrame com as colunas dos dois DataFrames originais unidas e com as linhas associadas de acordo com a coluna em comun (código)."
   ]
  },
  {
   "cell_type": "code",
   "execution_count": null,
   "metadata": {},
   "outputs": [],
   "source": [
    "df_joined = pd.merge(df, df_imobiliarias)\n",
    "\n",
    "df_joined"
   ]
  },
  {
   "cell_type": "markdown",
   "metadata": {},
   "source": [
    "Também podemos fazer a união das linhas de dois DataFrames diferentes (de preferência contendo as mesmas colunas). Abaixo definimos um novo DataFrame com duas novas ofertas de aluguel para unirmos ao DataFrame original."
   ]
  },
  {
   "cell_type": "code",
   "execution_count": null,
   "metadata": {},
   "outputs": [],
   "source": [
    "df_mais_apartamentos = pd.DataFrame([[734, 'Rua Nova', 2, 1, 84, 0, 1250, 490],\n",
    "                                     [4124, 'Rua Nova 2', 1, 1, 60, 0, 850, 310]],\n",
    "                                     columns = df.columns)\n",
    "\n",
    "df_mais_apartamentos"
   ]
  },
  {
   "cell_type": "markdown",
   "metadata": {},
   "source": [
    "O método usado para a união das linhas de dois DataFrames é o *concat*:"
   ]
  },
  {
   "cell_type": "code",
   "execution_count": null,
   "metadata": {},
   "outputs": [],
   "source": [
    "pd.concat([df, df_mais_apartamentos])"
   ]
  },
  {
   "cell_type": "markdown",
   "metadata": {},
   "source": [
    "### Referências\n",
    "\n",
    "- Documentção do Pandas: [pandas.DataFrame.merge](https://pandas.pydata.org/pandas-docs/stable/reference/api/pandas.DataFrame.merge.html)\n",
    "- Documentção do Pandas: [pandas.DataFrame.join](https://pandas.pydata.org/pandas-docs/stable/reference/api/pandas.DataFrame.join.html)\n",
    "- Documentção do Pandas: [pandas.concat](https://pandas.pydata.org/pandas-docs/stable/reference/api/pandas.concat.html)\n"
   ]
  },
  {
   "cell_type": "code",
   "execution_count": null,
   "metadata": {},
   "outputs": [],
   "source": []
  }
 ],
 "metadata": {
  "hide_input": false,
  "kernelspec": {
   "display_name": "Python 3",
   "language": "python",
   "name": "python3"
  },
  "language_info": {
   "codemirror_mode": {
    "name": "ipython",
    "version": 3
   },
   "file_extension": ".py",
   "mimetype": "text/x-python",
   "name": "python",
   "nbconvert_exporter": "python",
   "pygments_lexer": "ipython3",
   "version": "3.7.3"
  }
 },
 "nbformat": 4,
 "nbformat_minor": 2
}
